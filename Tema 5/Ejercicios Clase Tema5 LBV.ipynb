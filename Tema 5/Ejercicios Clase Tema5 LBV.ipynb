{
 "cells": [
  {
   "cell_type": "code",
   "execution_count": null,
   "metadata": {},
   "outputs": [],
   "source": []
  },
  {
   "cell_type": "markdown",
   "metadata": {},
   "source": [
    " # Ejercicios - Tema 5"
   ]
  },
  {
   "cell_type": "code",
   "execution_count": 18,
   "metadata": {},
   "outputs": [
    {
     "name": "stdout",
     "output_type": "stream",
     "text": [
      "Pyt%on_,,,,,,::#\n",
      ",:_#,,,,,,:::_______##Pyt%on_,,,,,,::#\n"
     ]
    }
   ],
   "source": [
    "\"\"\"\n",
    "# 1. Elimina los caracteres ( ‘ : % - # ) de la izquierda del texto principal. Usa el método lstrip() e imprime el resultado por pantalla:\n",
    "\",:_#,,,,,,:::_______##Pyt%on_,,,,,,::#\"\n",
    "Busca en la documentación acerca del funcionamiento del método solicitado para saber cómo actúa. Puedes utilizar variables intermedias si las necesitas.\n",
    "\"\"\"\n",
    "# En el enunciado pone que hay que quitar (´ : % - #) pero he asumido que te referías a (, : % - #):\n",
    "print(\",:_#,,,,,,:::_______##Pyt%on_,,,,,,::#\".lstrip(\",:_#%\"))\n"
   ]
  },
  {
   "cell_type": "code",
   "execution_count": 102,
   "metadata": {},
   "outputs": [
    {
     "name": "stdout",
     "output_type": "stream",
     "text": [
      "['mango', 'plátano', 'arándano', 'piña', 'ciruela', 'naranja']\n"
     ]
    }
   ],
   "source": [
    "\"\"\"\n",
    "# 2. Añade el elemento “piña” como el cuarto elemento de la siguiente lista llamada “frutas”, utilizando el método insert():\n",
    "frutas = [\"mango\", \"plátano\", \"arándano\", \"ciruela\", \"naranja\"]\n",
    "Busca en la documentación acerca del funcionamiento del método solicitado para saber cómo actúa.\n",
    "\"\"\"\n",
    "\n",
    "frutas = [\"mango\", \"plátano\", \"arándano\", \"ciruela\", \"naranja\"]\n",
    "frutas.insert(3,\"piña\")\n",
    "\n",
    "print(frutas)"
   ]
  },
  {
   "cell_type": "code",
   "execution_count": 103,
   "metadata": {},
   "outputs": [
    {
     "name": "stdout",
     "output_type": "stream",
     "text": [
      "False\n"
     ]
    }
   ],
   "source": [
    "\"\"\"\n",
    "# 3. Verifica si los sets a continuación forman conjuntos aislados (es decir, que no tienen elementos en común), utilizando el método isdisjoint(). Almacena el resultado en la variable conjuntos_aislados:\n",
    "marcas_smartphones = {\"Smasung\", \"Xiaomi\", \"Apple\", \"Huawei\", \"LG\"}\n",
    "marcas_tv = {\"Sony\", \"Philips\", \"Samsung\", \"LG\"}\n",
    "Busca en la documentación acerca del funcionamiento del método solicitado para saber cómo actúa.\n",
    "\"\"\"\n",
    "\n",
    "marcas_smartphones = {\"Smasung\", \"Xiaomi\", \"Apple\", \"Huawei\", \"LG\"}\n",
    "marcas_tv = {\"Sony\", \"Philips\", \"Samsung\", \"LG\"}\n",
    "\n",
    "conjuntos_aislados = marcas_smartphones.isdisjoint(marcas_tv)\n",
    "\n",
    "print(conjuntos_aislados)"
   ]
  },
  {
   "cell_type": "code",
   "execution_count": 23,
   "metadata": {},
   "outputs": [],
   "source": [
    "# 4. Declara una función llamada saludar, que cada vez que sea llamada imprima en pantalla “¡Hola Python!”. Solo debes definir la función, no debes llamarla luego.\n",
    "\n",
    "def saludar():\n",
    "    print(\"¡Hola Python!\")\n",
    "    return"
   ]
  },
  {
   "cell_type": "code",
   "execution_count": 81,
   "metadata": {},
   "outputs": [],
   "source": [
    "# 5. Declara una función llamada bienvenida, que tenga como argumento el nombre de una persona, y que cada vez que sea llamada imprima en pantalla “¡Bienvenido/a {nombre_persona}!”. Crea la variable nombre_persona, y almacena dentro de la misma el nombre que prefieras. Solo debes definir la función y crear la variable.\n",
    "\n",
    "nombre_persona = \"Marina\"\n",
    "\n",
    "def bienvenida(per):\n",
    "    print(f\"¡Bienvenido/a {per}!\")\n",
    "    return"
   ]
  },
  {
   "cell_type": "code",
   "execution_count": 34,
   "metadata": {},
   "outputs": [],
   "source": [
    "# 6. Declara una función llamada cuadrado, que tenga como argumento un número cualquiera, y que cada vez que sea llamada, imprima en pantalla el cuadrado de dicho número. El nombre del argumento es numero. Crea dicha variable y asígnale un número cualquiera. Solo debes definir la función y crear la variable, no debes llamar a la función luego.\n",
    "\n",
    "numero = 7\n",
    "\n",
    "def cuadrado(numero):\n",
    "    print(f\"El cuadrado de {numero} es {numero**2}.\")\n",
    "    return\n"
   ]
  },
  {
   "cell_type": "code",
   "execution_count": 35,
   "metadata": {},
   "outputs": [],
   "source": [
    "# 7. Crea una función llamada potencia que tome dos valores numéricos como argumentos. Deberá devolver el número que resulte de resolver una potencia, utilizando el primer número como base y el segundo como exponente:\n",
    "\n",
    "base = 5\n",
    "exponente = 4\n",
    "\n",
    "def potencia(base,exponente):\n",
    "    print(f\"Elevando {base} a la {exponente}-ésima potencia obtenemos {base**exponente}.\")\n",
    "    return"
   ]
  },
  {
   "cell_type": "code",
   "execution_count": 111,
   "metadata": {},
   "outputs": [
    {
     "name": "stdout",
     "output_type": "stream",
     "text": [
      "672.35 USD equivalen a 605.12 EUR (cambio: 1 USD = 0.90 EUR).\n"
     ]
    }
   ],
   "source": [
    "# 8. Crea una función llamada usd_a_eur que coja como único parámetro un valor numérico (una cantidad en dólares estadounidenses), y devuelva como resultado la cantidad equivalente en euros. Cogeremos la conversión 1 USD = 0.90 EUR. Crea una variable llamada dolares y almacena en ella una cantidad cualquiera para entregársela a tu función y evaluar su resultado.\n",
    "\n",
    "dolares = 672.35\n",
    "\n",
    "def usd_a_eur(dolares):\n",
    "    cambio = 0.9\n",
    "    euros = round(cambio*dolares,2)\n",
    "    print(f\"{dolares} USD equivalen a {euros} EUR (cambio: 1 USD = 0.90 EUR).\")\n",
    "    return\n",
    "\n",
    "usd_a_eur(dolares)"
   ]
  },
  {
   "cell_type": "code",
   "execution_count": 112,
   "metadata": {},
   "outputs": [
    {
     "data": {
      "text/plain": [
       "'ATSILUBMANUF'"
      ]
     },
     "execution_count": 112,
     "metadata": {},
     "output_type": "execute_result"
    }
   ],
   "source": [
    "# 9. Crea una función llamada invertir_palabra que, cogiendo los caracteres de una palabra dada como argumento, invierta el orden de sus caracteres y los devuelva de ese modo y en mayúsculas. Por ejemplo, si le proporcionamos la palabra “Python”, deberá devolver: “NOHTYP” También, deberás crear una variable llamada palabra, que contenga el string que tú prefieras, para usarla como argumento en la función creada.\n",
    "\n",
    "palabra = \"funambulista\"\n",
    "\n",
    "def invertir_palabra(palabra):\n",
    "    reves = palabra[::-1].upper()\n",
    "    return reves\n",
    "\n",
    "invertir_palabra(palabra)"
   ]
  },
  {
   "cell_type": "code",
   "execution_count": 115,
   "metadata": {},
   "outputs": [
    {
     "name": "stdout",
     "output_type": "stream",
     "text": [
      "False\n"
     ]
    }
   ],
   "source": [
    "# 10. Crea una función llamada todos_positivos que reciba una lista de números como parámetro, y devuelva True si todos los valores de una lista son positivos, y False si al menos uno de los valores es negativo. Crea una lista llamada lista_numeros con valores positivos y negativos. No invoques la función, solo es necesario definirla.\n",
    "\n",
    "lista_numeros = [55, 90, 99, -3, 0]\n",
    "\n",
    "def todos_positivos(listanums):\n",
    "    marcador = 0\n",
    "    for i in listanums:\n",
    "        if i < 0:\n",
    "            marcador += 1\n",
    "            print(False)\n",
    "            break\n",
    "        if i >= 0:\n",
    "            continue\n",
    "    if marcador <= 0: \n",
    "        print(True)\n",
    "    return"
   ]
  },
  {
   "cell_type": "code",
   "execution_count": 116,
   "metadata": {},
   "outputs": [],
   "source": [
    "# 11. Crea una función llamada suma_menores que sume los números de una lista (almacenada en la variable lista_numeros, siempre y cuando sean mayores a 0 y menores a 1000, y devuelva el resultado de dicha suma.\n",
    "\n",
    "lista_numeros = [44, 2, -5, 0, 1000, 3242]\n",
    "\n",
    "def suma_menores(listanums):\n",
    "    suma = 0\n",
    "    for i in listanums:\n",
    "        if 0 < i < 1000:\n",
    "            suma += i\n",
    "        else:\n",
    "            continue\n",
    "    return suma\n"
   ]
  },
  {
   "cell_type": "code",
   "execution_count": 87,
   "metadata": {},
   "outputs": [
    {
     "data": {
      "text/plain": [
       "2"
      ]
     },
     "execution_count": 87,
     "metadata": {},
     "output_type": "execute_result"
    }
   ],
   "source": [
    "# 12. Crea una función llamada cantidad_pares que cuente la cantidad de números pares que existen en una lista, llamada lista_numeros, y devuelva el resultado de dicha cuenta.\n",
    "\n",
    "lista_numeros = [2, 4, 7, 99]\n",
    "\n",
    "def cantidad_pares(listanums):\n",
    "    pares = 0\n",
    "    for i in listanums:\n",
    "        if i % 2 == 0:\n",
    "            pares += 1\n",
    "        else:\n",
    "            continue\n",
    "    return pares"
   ]
  },
  {
   "cell_type": "code",
   "execution_count": 100,
   "metadata": {},
   "outputs": [
    {
     "data": {
      "text/plain": [
       "'La suma de tus dados es 7. Tienes oportunidades.'"
      ]
     },
     "execution_count": 100,
     "metadata": {},
     "output_type": "execute_result"
    }
   ],
   "source": [
    "\"\"\"\n",
    "13.\tCrea una función llamada lanzar_dados, que lance dos dados al azar y devuelva sus resultados. La función debe retornar dos valores resultado, que se encuentren entre el 1 y el 6. La función no necesita argumentos para funcionar, solo debe generar los valores aleatorios. Dale los datos de los dados a una función llamada evaluar_jugada, es decir, esta segunda función debe recibir dos argumentos, y debe retornar, sin imprimir, un mensaje según la suma de estos valores:\n",
    "    a.Si la suma es menor o igual a 6: “La suma de tus dados es {suma_dados}. Lamentable.”.\n",
    "    b.Si la suma es mayor a 6 y menor a 10: “La suma de tus dados es {suma_dados}. Tienes oportunidades.”.\n",
    "    c.Si la suma es mayor o igual a 10: “La suma de tus dados es {suma_dados}. Jugada maestra.”.\n",
    "Puedes usar la biblioteca Random para el ejercicio.\n",
    "\"\"\"\n",
    "\n",
    "def lanzar_dados():\n",
    "    from random import randint\n",
    "    dado1 = randint(1,6)\n",
    "    dado2 = randint(1,6)\n",
    "    suma_dados = dado1 + dado2\n",
    "    return suma_dados\n",
    "\n",
    "def evaluar_jugada(suma_dados):\n",
    "    if suma_dados <=6:\n",
    "        return f\"La suma de tus dados es {suma_dados}. Lamentable.\"\n",
    "    if 6 < suma_dados < 10:\n",
    "        return f\"La suma de tus dados es {suma_dados}. Tienes oportunidades.\"\n",
    "    if suma_dados >= 10:\n",
    "        return f\"La suma de tus dados es {suma_dados}. Jugada maestra.\"\n",
    "\n",
    "evaluar_jugada(lanzar_dados())"
   ]
  },
  {
   "cell_type": "code",
   "execution_count": 118,
   "metadata": {},
   "outputs": [
    {
     "data": {
      "text/plain": [
       "-124.2"
      ]
     },
     "execution_count": 118,
     "metadata": {},
     "output_type": "execute_result"
    }
   ],
   "source": [
    "# 14. Crea una función llamada reducir_lista que coja una lista como argumento. Crea también la variable llamada lista_numeros. La función reducir_lista debe devolver la misma lista, pero eliminando elementos duplicados (dejando uno solo si hay repetidos), y eliminando el valor más alto. El orden de los elementos puede modificarse. Luego crea la función llamada media_numeros, que pueda recibir como argumento la lista devuelta por la anterior función, y que calcule la media de los valores de la misma. Debe devolver el resultado sin imprimirlo.\n",
    "\n",
    "lista_numeros = [9, 43, 23, -700, 23, 23, 4, 43]\n",
    "\n",
    "\n",
    "def reducir_lista(listanums):\n",
    "    listareducida = list(set(lista_numeros))\n",
    "    return listareducida\n",
    "\n",
    "def media_numeros(reducir_lista):\n",
    "    sumatorio = 0\n",
    "    for i in reducir_lista:\n",
    "        sumatorio += i\n",
    "    media = sumatorio / len(reducir_lista)\n",
    "    return media\n",
    "\n",
    "media_numeros(reducir_lista(lista_numeros))\n"
   ]
  },
  {
   "cell_type": "code",
   "execution_count": 66,
   "metadata": {},
   "outputs": [
    {
     "name": "stdout",
     "output_type": "stream",
     "text": [
      "La lista fue salvada.\n"
     ]
    },
    {
     "data": {
      "text/plain": [
       "[3, 44, 192, -33]"
      ]
     },
     "execution_count": 66,
     "metadata": {},
     "output_type": "execute_result"
    }
   ],
   "source": [
    "\"\"\"\n",
    "15.\tCrea una función que se llame lanzar_moneda. La función debe devolver el resultado de lanzar una moneda al azar, es decir, “Cara”, o “Cruz”, y no necesita argumentos para funcionar. Crea una segunda función llamada probar_suerte, que tenga dos argumentos; el primero, debe ser el resultado del lanzamiento de la moneda, y el segundo argumento será una lista de números cualquiera (así que debes crear una lista con valores y llamara lista_numeros).\n",
    "    a.Si sale “Cara”, debe mostrar el mensaje al usuario: “La lista se va a autodestruir”, y elimina la lista, es decir, devuélvela vacía.\n",
    "    b.Si sale “Cruz”, debe imprimir por pantalla: “La lista fue salvada”, y devuelves la lista intacta.\n",
    "\"\"\"\n",
    "\n",
    "lista_numeros = [3, 44, 192, -33]\n",
    "\n",
    "def lanzar_moneda():\n",
    "    from random import choice\n",
    "    moneda = [\"Cara\", \"Cruz\"]\n",
    "    return choice(moneda)\n",
    "\n",
    "def probar_suerte(caraocruz, listanums):\n",
    "    if caraocruz == \"Cara\":\n",
    "       print(\"La lista se va a autodestruir.\")\n",
    "       listanums.clear()\n",
    "       return listanums\n",
    "    elif caraocruz == \"Cruz\":\n",
    "        print(\"La lista fue salvada.\")\n",
    "        return listanums\n",
    "    else:\n",
    "        print(\"Introduce en el primer argumento de la función el resultado del lanzamiento de moneda.\")\n",
    "        return\n",
    "    \n",
    "\n",
    "probar_suerte(lanzar_moneda(), lista_numeros)"
   ]
  },
  {
   "cell_type": "code",
   "execution_count": 119,
   "metadata": {},
   "outputs": [],
   "source": [
    "# 16. Crea una función llamada suma_cuadrados que coja una cantidad indeterminada de argumentos numéricos, y que retorne la suma de sus valores al cuadrado. Por ejemplo, para los argumentos suma_cuadrados(1, 2, 3), deberá retornar 14 (1 + 4 + 9).\n",
    "\n",
    "def suma_cuadrados (*args):\n",
    "    resultado = 0\n",
    "    for num in args:\n",
    "        resultado += num*num\n",
    "    return resultado\n"
   ]
  },
  {
   "cell_type": "code",
   "execution_count": 120,
   "metadata": {},
   "outputs": [],
   "source": [
    "# 17. Crea una función llamada suma_absolutos que coja un conjunto indeterminado de cualquier extensión, y retorne la suma de sus valores absolutos, es decir, que tome los valores sin signo y los sume.\n",
    "\n",
    "def suma_absolutos (*args):\n",
    "    resultado = 0\n",
    "    for num in args:\n",
    "        if num < 0:\n",
    "            resultado += num*(-1)\n",
    "        else:\n",
    "            resultado += num\n",
    "    return resultado\n"
   ]
  },
  {
   "cell_type": "code",
   "execution_count": 103,
   "metadata": {},
   "outputs": [],
   "source": [
    "# 18. Crea una función llamada números_juegos, que reciba como primer argumento un nombre de videojuego, y a continuación una cantidad indefinida de números. La función debe devolver el siguiente mensaje: “El juego {nombre} tiene un stock de {suma_numeros} unidades.”.\n",
    "\n",
    "def numeros_juegos(nombre, *args):\n",
    "    suma_numeros = 0\n",
    "    for num in args:\n",
    "        suma_numeros += num\n",
    "    print(f\"El juego {nombre} tiene un stock de {suma_numeros} unidades.\")\n",
    "    return\n"
   ]
  },
  {
   "cell_type": "code",
   "execution_count": 107,
   "metadata": {},
   "outputs": [],
   "source": [
    "# 19. Crea una función llamada cantidad_atributos que cuente la cantidad de parámetros que se entregan, y devuelve esa cantidad como resultado.\n",
    "\n",
    "def cantidad_atributos(*args):\n",
    "    total = 0\n",
    "    for num in args:\n",
    "        total += 1\n",
    "    return total\n"
   ]
  },
  {
   "cell_type": "code",
   "execution_count": 101,
   "metadata": {},
   "outputs": [],
   "source": [
    "# 20. Crea una función llamada lista_atributos que devuelva en forma de lista los valores de los atributos entregados en forma de palabras clave (keywords). La función debe prever cualquier cantidad de argumentos de este tipo.\n",
    "\n",
    "\n",
    "def lista_atributos(**kwargs):\n",
    "    kwargs.items() # creamos diccionario\n",
    "    valores = list(kwargs.values())\n",
    "    return valores\n",
    "\n",
    "#Si me he vuelto a liar y resulta que lo que pide el enunciado es una lista con las Keywords, solo habría que cambiar .values() por .keys()\n",
    "\n"
   ]
  },
  {
   "cell_type": "code",
   "execution_count": 55,
   "metadata": {},
   "outputs": [
    {
     "name": "stdout",
     "output_type": "stream",
     "text": [
      "1 | Características de María:\n",
      "2 | color_ojos: verdes\n",
      "3 | color_pelo: castaño\n"
     ]
    }
   ],
   "source": [
    "\"\"\"\n",
    "# 21. Crea una función llamada describir_persona, que tome como parámetros su nombre y luego una cantidad indeterminada de argumentos. Esta función deberá mostrar en pantalla:\n",
    "1 | Características de {nombre}:\n",
    "2 | {nombre_argumento}: {valor_argumento}\n",
    "3 | {nombre_argumento}: {valor_argumento}\n",
    "4 | etc...\n",
    "\n",
    "Sigue el ejemplo:\n",
    "1 | Características de María:\n",
    "2 | color_ojos: verdes\n",
    "3 | color_pelo: castaño\n",
    "4 | etc...\n",
    "\"\"\"\n",
    "\n",
    "def describir_persona(nombre, **kwargs):\n",
    "    print(f\"1 | Características de {nombre}:\")\n",
    "    contador = 1\n",
    "    for clave, valor in kwargs.items():\n",
    "        contador += 1\n",
    "        print(f\"{contador} | {clave}: {valor}\")\n",
    "    return\n",
    "    \n",
    "describir_persona(\"María\", color_ojos=\"verdes\", color_pelo=\"castaño\")\n"
   ]
  },
  {
   "cell_type": "code",
   "execution_count": null,
   "metadata": {},
   "outputs": [],
   "source": [
    "# 22. Crea una función llamada devolver_distintos que reciba 3 integers como parámetros. Si la suma de los 3 números es mayor a 15, va a devolver el número mayor. Si la suma de los 3 números es menor a 10 va a devolver el número menor. Si la suma de los 3 números es un valor entre 10 y 15 (incluidos), va a devolver el número de valor intermedio.\n",
    "\n",
    "def devolver_distintos(a,b,c):\n",
    "    lista = [a, b, c]\n",
    "    suma = a + b + c\n",
    "    maxvalue = max(lista)\n",
    "    minvalue = min(lista)\n",
    "    if suma > 15:\n",
    "        print(maxvalue)\n",
    "        return maxvalue\n",
    "    if suma < 10:\n",
    "        print(minvalue)\n",
    "        return minvalue\n",
    "    if 10 <= suma <= 15:\n",
    "        lista.pop(lista.index(maxvalue))\n",
    "        lista.pop(lista.index(minvalue))\n",
    "        print(lista[0])\n",
    "        return lista[0]\n",
    "    \n"
   ]
  },
  {
   "cell_type": "code",
   "execution_count": 124,
   "metadata": {},
   "outputs": [],
   "source": [
    "# 23. Escribe una función con el nombre que quieras, que reciba como parámetro cualquier palabra, y que devuelva una lista con todas sus letras únicas (sin repetir) pero en orden alfabético. Por ejemplo, si al llamar a la función pasas la palabra “oleaje”, deberá devolver [‘a’, ‘e’, ‘j’, ‘l’, ‘o’].\n",
    "\n",
    "def letras(word):\n",
    "    wordset = set(word)\n",
    "    wordlist = list(wordset)\n",
    "    wordlist.sort()\n",
    "    return wordlist\n"
   ]
  },
  {
   "cell_type": "code",
   "execution_count": 54,
   "metadata": {},
   "outputs": [
    {
     "data": {
      "text/plain": [
       "False"
      ]
     },
     "execution_count": 54,
     "metadata": {},
     "output_type": "execute_result"
    }
   ],
   "source": [
    "# 24. Escribe una función que requiera una cantidad indefinida de argumentos. Lo que hará esta función es devolver True si en algún momento se ha ingresado el número 0 repetido dos veces consecutivas. Por ejemplo, si se introduce (5, 6, 1, 0, 0, 9, 3,5) dará True. Si introduce (5, 6, 0, 2, 0, 9, 0, 1) dará False.\n",
    "\n",
    "def doblecero(*args):\n",
    "    lista = list(args)\n",
    "    listatuplas = list(enumerate(lista)) \n",
    "\n",
    "    for indice, numero in listatuplas:\n",
    "        if numero == 0:\n",
    "            if indice == listatuplas[len(listatuplas)-1][0]: # esto es para que no salte error en caso de que el 0 que está siendo evaluado sea el último elemento de la lista (sin este if, la función diría que listatuplas[indice+1][1] está out of range)\n",
    "                return False\n",
    "            if numero == listatuplas[indice+1][1]:\n",
    "                return True\n",
    "        else:\n",
    "            pass\n",
    "    return False\n",
    "\n",
    "\n",
    "doblecero(0, 5, 0, 4, 0, 7, 0)"
   ]
  },
  {
   "cell_type": "code",
   "execution_count": 17,
   "metadata": {},
   "outputs": [
    {
     "data": {
      "text/plain": [
       "9"
      ]
     },
     "execution_count": 17,
     "metadata": {},
     "output_type": "execute_result"
    }
   ],
   "source": [
    "# 25. Escribe una función llamada contar_primos, que requiera un solo argumento numérico. Esta función va a mostrar en pantalla cuántos números primos hay en el rango que va desde cero hasta ese número incluido, y va a devolver la cantidad de números primos que encontró. (El número 0 y el 1 no se consideran primos).\n",
    "\n",
    "def contar_primos(a):\n",
    "    lista = list(range(2,a+1,1)) # el range empieza en 2 para que no coja 1 y 0\n",
    "    setnoprimos = set() # aquí voy metiendo los números no primos que la función vaya identificando\n",
    "\n",
    "    for num in lista:\n",
    "        for i in range(2, num): # lista de números entre los que NUM puede ser potencialmente divisible\n",
    "            if num % i == 0:\n",
    "                setnoprimos.add(num)\n",
    "                break\n",
    "            else:\n",
    "                continue\n",
    "\n",
    "        cantidadprimos = len(lista) - len(setnoprimos)\n",
    "        \n",
    "    return cantidadprimos\n",
    "\n",
    "contar_primos(27)\n"
   ]
  },
  {
   "cell_type": "code",
   "execution_count": null,
   "metadata": {},
   "outputs": [],
   "source": []
  }
 ],
 "metadata": {
  "kernelspec": {
   "display_name": "Python 3",
   "language": "python",
   "name": "python3"
  },
  "language_info": {
   "codemirror_mode": {
    "name": "ipython",
    "version": 3
   },
   "file_extension": ".py",
   "mimetype": "text/x-python",
   "name": "python",
   "nbconvert_exporter": "python",
   "pygments_lexer": "ipython3",
   "version": "3.11.8"
  }
 },
 "nbformat": 4,
 "nbformat_minor": 2
}
