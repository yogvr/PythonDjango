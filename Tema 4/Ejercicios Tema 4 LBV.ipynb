{
 "cells": [
  {
   "cell_type": "markdown",
   "metadata": {},
   "source": [
    "# Ejercicios tema 4"
   ]
  },
  {
   "cell_type": "code",
   "execution_count": 38,
   "metadata": {},
   "outputs": [
    {
     "name": "stdout",
     "output_type": "stream",
     "text": [
      "False\n"
     ]
    }
   ],
   "source": [
    "# 1.Crea dos variables (num1 y num2) con los valores 20 y 49 respectivamente. Verifica si num1 es mayor o igual que num2 y almacena el resultado en una variable llamada mi_booleano.\n",
    "\n",
    "num1 = 20\n",
    "num2 = 49\n",
    "mi_booleano = num1 >= num2\n",
    "print(mi_booleano)\n"
   ]
  },
  {
   "cell_type": "code",
   "execution_count": 39,
   "metadata": {},
   "outputs": [
    {
     "name": "stdout",
     "output_type": "stream",
     "text": [
      "False\n"
     ]
    }
   ],
   "source": [
    "\"\"\"\n",
    "2.Crea dos variables (num1 y num 2):\n",
    "    a.Dentro de num1 almacena el resultado de la raíz cuadrada de 81.\n",
    "    b.Dentro de num2 almacena el número 5.\n",
    "Verifica si num1 es igual a num 2 y almacena el resultado de la comparación en una variable llamada mi_booleano.\n",
    "\"\"\"\n",
    "\n",
    "num1 = 81**0.5\n",
    "num2 = 5\n",
    "mi_booleano = num1 == num2\n",
    "print(mi_booleano)"
   ]
  },
  {
   "cell_type": "code",
   "execution_count": 40,
   "metadata": {},
   "outputs": [
    {
     "name": "stdout",
     "output_type": "stream",
     "text": [
      "True\n"
     ]
    }
   ],
   "source": [
    "\"\"\"\n",
    "3.Crea dos variables (num1 y num2):\n",
    "    a.Dentro de num1 almacena el resultado de la operación 78 * 2\n",
    "    b.Dentro de num2 almacena el resultado de la operación 24 * 5\n",
    "Verifica si num1 es diferente a num2 y almacena el resultado de la comparación en una variable llamada mi_booleano.\n",
    "\"\"\"\n",
    "\n",
    "num1 = 78*2\n",
    "num2 = 24*5\n",
    "mi_booleano = num1 != num2\n",
    "print(mi_booleano)"
   ]
  },
  {
   "cell_type": "code",
   "execution_count": 6,
   "metadata": {},
   "outputs": [
    {
     "name": "stdout",
     "output_type": "stream",
     "text": [
      "False\n"
     ]
    }
   ],
   "source": [
    "\"\"\"\n",
    "4.Crea tres variables (num1, num2 y num3):\n",
    "    a.Dentro de num1 almacena el valor 80\n",
    "    b.Dentro de num2 almacena el resultado de 94/5\n",
    "    c.Dentro de num3 almacena el valor 5 * 12\n",
    "Verifica si num1 es mayor que num2 y menor que num3. Almacena el resultado de la comparación en una variable llamada mi_booleano.\n",
    "\"\"\"\n",
    "\n",
    "num1 = 80\n",
    "num2 = 94/5\n",
    "num3 = 5*12\n",
    "mi_booleano = num2 < num1 < num3\n",
    "print(mi_booleano)"
   ]
  },
  {
   "cell_type": "code",
   "execution_count": 41,
   "metadata": {},
   "outputs": [
    {
     "name": "stdout",
     "output_type": "stream",
     "text": [
      "True\n"
     ]
    }
   ],
   "source": [
    "\"\"\"\n",
    "5.Crea tres variables (num1, num2 y num3):\n",
    "    a.Dentro de num1 almacena el valor 42\n",
    "    b.Dentro de num2 almacena el resultado de 120/5\n",
    "    c.Dentro de num3 almacena el valor 5 * 8\n",
    "Verifica si num1 es mayor que num2 o menor que num3. Almacena el resultado de la comparación en una variable llamada mi_booleano.\n",
    "\"\"\"\n",
    "\n",
    "num1 = 42\n",
    "num2 = 120/5\n",
    "num3 = 5*8\n",
    "mi_booleano = num1 > num2 or num1 < num3\n",
    "print(mi_booleano)"
   ]
  },
  {
   "cell_type": "code",
   "execution_count": 42,
   "metadata": {},
   "outputs": [
    {
     "name": "stdout",
     "output_type": "stream",
     "text": [
      "False\n"
     ]
    }
   ],
   "source": [
    "\"\"\"\n",
    "6.Verifica si las palabras almacenadas en las siguientes variables:\n",
    "    a.palabra1 = “éxito”\n",
    "    b.palabra2 = “tecnología”\n",
    "no se encuentran en la siguiente frase, y almacena el resultado de la comprobación en una variable llamada mi_booleano. “Hay que practicar cada tecnología hasta que consigamos tener éxito”.\n",
    "\"\"\"\n",
    "palabra1 = \"éxito\"\n",
    "palabra2 = \"tecnología\"\n",
    "frase = \"Hay que practicar cada tecnología hasta que consigamos tener éxito\"\n",
    "\n",
    "mi_booleano = not palabra1 in frase or not palabra2 in frase\n",
    "print(mi_booleano)\n"
   ]
  },
  {
   "cell_type": "code",
   "execution_count": 43,
   "metadata": {},
   "outputs": [
    {
     "name": "stdout",
     "output_type": "stream",
     "text": [
      "80 es mayor que 78\n"
     ]
    }
   ],
   "source": [
    "\"\"\"\n",
    "7.Crea dos variables, num1 y num2, que le pidan datos al usuario con input. Crea una estructura de control de flujo que compare los valores de las variables, y arroje un resultado de acuerdo al caso:\n",
    "    a.num1 es mayor que num2\n",
    "    b.num2 es mayor que num1\n",
    "    c.num1 y num2 son iguales\n",
    "Debes mostrar en pantalla el valor de las variables ingresadas en lugar de num1 y num2.\n",
    "\"\"\"\n",
    "\n",
    "num1 = int(input(\"Introduce el primer número:\\n\\t\"))\n",
    "num2 = int(input(\"Introduce el segundo número:\\n\\t\"))\n",
    "\n",
    "def comparativa():\n",
    "\n",
    "    if num1 > num2:\n",
    "        print(f\"{num1} es mayor que {num2}\")\n",
    "    elif num2 > num1:\n",
    "        print(f\"{num2} es mayor que {num1}\")\n",
    "    elif num1 == num2:\n",
    "        print(f\"{num1} es igual que {num2}\")\n",
    "\n",
    "comparativa()"
   ]
  },
  {
   "cell_type": "code",
   "execution_count": 44,
   "metadata": {},
   "outputs": [
    {
     "name": "stdout",
     "output_type": "stream",
     "text": [
      "No puedes conducir aún. Debes tener 18 años y tener el carnet\n"
     ]
    }
   ],
   "source": [
    "\"\"\"\n",
    "8.Crea una estructura condicional para verificar si una persona de 16 años sin carnet puede conducir, y muestra el resultado que corresponda por pantalla:\n",
    "    a.“Puede conducir”\n",
    "    b.“No puedes conducir aún. Debes tener 18 años y tener el carnet”\n",
    "    c.“No puedes conducir. Necesitas tener el carnet”\n",
    "Crea las variables necesarias y la estructura condicional que controle los posibles casos finales.\n",
    "\"\"\"\n",
    "edad = 16\n",
    "carnet = False\n",
    "\n",
    "def conducir():\n",
    "    if edad >= 18 and carnet == True:\n",
    "        print(\"Puede conducir\")\n",
    "    elif edad <18:\n",
    "        print(\"No puedes conducir aún. Debes tener 18 años y tener el carnet\")\n",
    "    elif edad >=18 and carnet == False:\n",
    "        print(\"No puedes conducir. Necesitas tener el carnet\")\n",
    "    return\n",
    "\n",
    "conducir()\n"
   ]
  },
  {
   "cell_type": "code",
   "execution_count": 76,
   "metadata": {},
   "outputs": [
    {
     "name": "stdout",
     "output_type": "stream",
     "text": [
      "Necesitas saber programar en Python para este trabajo\n"
     ]
    }
   ],
   "source": [
    "\"\"\"\n",
    "9.Para acceder a un puesto de trabajo, el candidato debe ser capaz de programar en Python y tener conocimientos de inglés. Crea una estructura condicional para evaluar a un candidato y muestra el mensaje correspondiente en pantalla:\n",
    "    a.“Cumples los requisitos para el trabajo”\n",
    "    b.“Para el trabajo, necesitas saber programar en Python y tener conocimientos de inglés”\n",
    "    c.“Para poder acceder al puesto de trabajo, necesitas tener conocimientos de inglés”\n",
    "    d.“Necesitas saber programar en Python para este trabajo”\n",
    "Crea las variables necesarias, si las necesitas, y plantea la estructura de control de flujo apropiada y verifica dichas condiciones. Evalúa un candidato que sabe inglés, pero no programa en Python.\n",
    "\"\"\"\n",
    "\n",
    "ingles = True\n",
    "python = False\n",
    "\n",
    "def trabajo():\n",
    "    if ingles == True and python == True:\n",
    "        print(\"Cumples los requisitos para el trabajo\")\n",
    "    elif ingles == False and python == False:\n",
    "        print(\"Para el trabajo, necesitas saber programar en Python y tener conocimientos de inglés\")\n",
    "    elif ingles == False and python == True:\n",
    "        print(\"Para poder acceder al puesto de trabajo, necesitas tener conocimientos de inglés\")\n",
    "    elif ingles == True and python == False:\n",
    "        print(\"Necesitas saber programar en Python para este trabajo\")\n",
    "    return\n",
    "\n",
    "trabajo()"
   ]
  },
  {
   "cell_type": "code",
   "execution_count": 47,
   "metadata": {},
   "outputs": [
    {
     "name": "stdout",
     "output_type": "stream",
     "text": [
      "Hola María\n",
      "Hola José\n",
      "Hola Carlos\n",
      "Hola Martina\n",
      "Hola Isabel\n",
      "Hola Tomás\n",
      "Hola Daniela\n"
     ]
    }
   ],
   "source": [
    "\"\"\"\n",
    "10.\tUsa loops for para saludar a todos los miembros de una clase, imprimiendo “Hola” + su nombre. Por ejemplo, “Hola María”. Usa el siguiente array:\n",
    "alumnos_clase = [\"María\", \"José\", \"Carlos\", \"Martina\", \"Isabel\", \"Tomás\", \"Daniela\"]\n",
    "\"\"\"\n",
    "\n",
    "alumnos_clase = [\"María\", \"José\", \"Carlos\", \"Martina\", \"Isabel\", \"Tomás\", \"Daniela\"]\n",
    "\n",
    "for alumno in alumnos_clase:\n",
    "    print(\"Hola\", alumno)"
   ]
  },
  {
   "cell_type": "code",
   "execution_count": 50,
   "metadata": {},
   "outputs": [
    {
     "name": "stdout",
     "output_type": "stream",
     "text": [
      "113\n"
     ]
    }
   ],
   "source": [
    "\n",
    "\"\"\"\n",
    "11.\tDada la siguiente lista de números, realiza la suma de todos los números utilizando loops for y almacena el resultado de la suma en una variable llamada suma_numeros:\n",
    "lista_numeros = [1, 5, 8, 7, 6, 8, 2, 5, 2, 6, 4, 8, 5, 9, 8, 3, 5, 4, 2, 5, 6, 4]\n",
    "\"\"\"\n",
    "\n",
    "lista_numeros = [1, 5, 8, 7, 6, 8, 2, 5, 2, 6, 4, 8, 5, 9, 8, 3, 5, 4, 2, 5, 6, 4]\n",
    "\n",
    "suma_numeros = 0\n",
    "\n",
    "for num in lista_numeros:\n",
    "    suma_numeros += num\n",
    "\n",
    "print(suma_numeros)"
   ]
  },
  {
   "cell_type": "code",
   "execution_count": 51,
   "metadata": {},
   "outputs": [
    {
     "name": "stdout",
     "output_type": "stream",
     "text": [
      "Suma de números pares: 68.\n",
      "Suma de números impares: 45\n"
     ]
    }
   ],
   "source": [
    "\"\"\"\n",
    "12. Dada la siguiente lista de números, realiza la suma de todos los números pares e impares por separado, en las variables suma_pares y suma_impares respectivamente:\n",
    "lista_numeros = [1, 5, 8, 7, 6, 8, 2, 5, 2, 6, 4, 8, 5, 9, 8, 3, 5, 4, 2, 5, 6, 4]\n",
    "Recuerda que los pares se pueden obtener con “num % 2 == 0”. Piensa para los valores impares.\n",
    "\"\"\"\n",
    "\n",
    "lista_numeros = [1, 5, 8, 7, 6, 8, 2, 5, 2, 6, 4, 8, 5, 9, 8, 3, 5, 4, 2, 5, 6, 4]\n",
    "\n",
    "suma_pares = 0\n",
    "suma_impares = 0\n",
    "\n",
    "for numero in lista_numeros:\n",
    "    if numero % 2 == 0:\n",
    "        suma_pares += numero\n",
    "    else:\n",
    "        suma_impares += numero\n",
    "\n",
    "print(f\"Suma de números pares: {suma_pares}.\\nSuma de números impares: {suma_impares}.\")"
   ]
  },
  {
   "cell_type": "code",
   "execution_count": 53,
   "metadata": {},
   "outputs": [
    {
     "name": "stdout",
     "output_type": "stream",
     "text": [
      "10\n",
      "9\n",
      "8\n",
      "7\n",
      "6\n",
      "5\n",
      "4\n",
      "3\n",
      "2\n",
      "1\n",
      "0\n"
     ]
    }
   ],
   "source": [
    "# 13. Crea un Loop while que se imprima en pantalla los números del 10 al 0, uno a la vez.\n",
    "\n",
    "int = 11\n",
    "while int > 0:\n",
    "    int -= 1\n",
    "    print(int)\n"
   ]
  },
  {
   "cell_type": "code",
   "execution_count": 54,
   "metadata": {},
   "outputs": [
    {
     "name": "stdout",
     "output_type": "stream",
     "text": [
      "50\n",
      "45\n",
      "40\n",
      "35\n",
      "30\n",
      "25\n",
      "20\n",
      "15\n",
      "10\n",
      "5\n",
      "0\n"
     ]
    }
   ],
   "source": [
    "\"\"\"\n",
    "14.Crea un Loop while que reste de uno en uno los números desde el 50 al 0 (ambos números incluidos) con las siguientes condiciones adicionales:\n",
    "    a.Si el número es divisible por 5, muestra dicho número en pantalla (recuerda que puedes usar el módulo % para verificar el resto).\n",
    "    b.Si el número no es divisible por 5, continúa ejecutando el loop sin mostrar el valor en pantalla (no te olvides de seguir restando)\n",
    "\"\"\"\n",
    "\n",
    "num = 51\n",
    "\n",
    "def ej14():\n",
    "    if num % 5 == 0:\n",
    "        print(num)\n",
    "    else:\n",
    "        return\n",
    "\n",
    "while num > 0:\n",
    "        num = num - 1\n",
    "        ej14()\n"
   ]
  },
  {
   "cell_type": "code",
   "execution_count": 55,
   "metadata": {},
   "outputs": [
    {
     "name": "stdout",
     "output_type": "stream",
     "text": [
      "4\n",
      "5\n",
      "8\n",
      "7\n",
      "6\n",
      "9\n",
      "8\n",
      "2\n",
      "4\n",
      "5\n",
      "7\n",
      "1\n",
      "9\n",
      "6\n",
      "5\n",
      "7\n",
      "4\n",
      "-1\n"
     ]
    }
   ],
   "source": [
    "\"\"\"\n",
    "15. Crea un Loop for para imprimir en pantalla cada uno de los elementos del array de números que te proporciona el ejercicio. Interrumpe el flujo en el momento que encuentres un valor negativo:\n",
    "lista_numeros = [4, 5, 8, 7, 6, 9, 8, 2, 4, 5, 7, 1, 9, 6, 5, 7, 4, -1, -5, 6, -6, 4, -5, 4]\n",
    "No debes alterar el orden de la lista.\n",
    "\"\"\"\n",
    "\n",
    "lista_numeros = [4, 5, 8, 7, 6, 9, 8, 2, 4, 5, 7, 1, 9, 6, 5, 7, 4, -1, -5, 6, -6, 4, -5, 4]\n",
    "\n",
    "for numero in lista_numeros:\n",
    "    print(numero)\n",
    "    if numero < 0: break"
   ]
  },
  {
   "cell_type": "code",
   "execution_count": 56,
   "metadata": {},
   "outputs": [
    {
     "name": "stdout",
     "output_type": "stream",
     "text": [
      "[2500, 2501, 2502, 2503, 2504, 2505, 2506, 2507, 2508, 2509, 2510, 2511, 2512, 2513, 2514, 2515, 2516, 2517, 2518, 2519, 2520, 2521, 2522, 2523, 2524, 2525, 2526, 2527, 2528, 2529, 2530, 2531, 2532, 2533, 2534, 2535, 2536, 2537, 2538, 2539, 2540, 2541, 2542, 2543, 2544, 2545, 2546, 2547, 2548, 2549, 2550, 2551, 2552, 2553, 2554, 2555, 2556, 2557, 2558, 2559, 2560, 2561, 2562, 2563, 2564, 2565, 2566, 2567, 2568, 2569, 2570, 2571, 2572, 2573, 2574, 2575, 2576, 2577, 2578, 2579, 2580, 2581, 2582, 2583, 2584, 2585]\n"
     ]
    }
   ],
   "source": [
    "#16. Crea una lista formada por todos los números desde el 2500 al 2585 (inclusive). Almacena dicha lista en la variable mi_lista.\n",
    "\n",
    "mi_lista = [num for num in range(2500,2586)]\n",
    "\n",
    "print(mi_lista)"
   ]
  },
  {
   "cell_type": "code",
   "execution_count": 83,
   "metadata": {},
   "outputs": [
    {
     "name": "stdout",
     "output_type": "stream",
     "text": [
      "[3, 6, 9, 12, 15, 18, 21, 24, 27, 30, 33, 36, 39, 42, 45, 48, 51, 54, 57, 60, 63, 66, 69, 72, 75, 78, 81, 84, 87, 90, 93, 96, 99, 102, 105, 108, 111, 114, 117, 120, 123, 126, 129, 132, 135, 138, 141, 144, 147, 150, 153, 156, 159, 162, 165, 168, 171, 174, 177, 180, 183, 186, 189, 192, 195, 198, 201, 204, 207, 210, 213, 216, 219, 222, 225, 228, 231, 234, 237, 240, 243, 246, 249, 252, 255, 258, 261, 264, 267, 270, 273, 276, 279, 282, 285, 288, 291, 294, 297, 300]\n"
     ]
    }
   ],
   "source": [
    "# 17. Utilizando la función range(), crea en una única línea de código una lista formada por todos los números múltiplos de 3 desde el 3 al 300 (inclusive). Almacena dicha lista en la variable mi_lista.\n",
    "\n",
    "mi_lista = [num for num in range(3, 301) if num%3 == 0]\n",
    "\n",
    "print(mi_lista)"
   ]
  },
  {
   "cell_type": "code",
   "execution_count": 57,
   "metadata": {},
   "outputs": [
    {
     "name": "stdout",
     "output_type": "stream",
     "text": [
      "1240\n"
     ]
    }
   ],
   "source": [
    "\"\"\"\n",
    "18.\tUtiliza la función range() y un loop para sumar los cuadrados de todos los números del 1 al 15 (inclusive). Almacena el resultado en una variable llamada suma_cuadrados. Para ello, puedes hacer lo siguiente:\n",
    "    a.Crea un rango de valores que puedas recorrer en un loop\n",
    "    b.Para cada uno de estos valores, calcula su valor al cuadrado (potencia de 2). Puede que necesites crear variables intermedias (de manera opcional).\n",
    "    c.Suma todos los valores cuadrados obtenidos. Acumula la suma en la variable suma_cuadrados.\n",
    "\"\"\"\n",
    "valores = [num for num in range(1,16)]\n",
    "cuadrados = [num**2 for num in valores]\n",
    "suma_cuadrados = 0\n",
    "\n",
    "for num in cuadrados:\n",
    "    suma_cuadrados += num\n",
    "\n",
    "print(suma_cuadrados)\n"
   ]
  },
  {
   "cell_type": "code",
   "execution_count": 59,
   "metadata": {},
   "outputs": [
    {
     "name": "stdout",
     "output_type": "stream",
     "text": [
      "Marcos se encuentra en el índice 0.\n",
      "Laura se encuentra en el índice 1.\n",
      "Mónica se encuentra en el índice 2.\n",
      "Javier se encuentra en el índice 3.\n",
      "Celina se encuentra en el índice 4.\n",
      "Marta se encuentra en el índice 5.\n",
      "Darío se encuentra en el índice 6.\n",
      "Emiliano se encuentra en el índice 7.\n",
      "Melisa se encuentra en el índice 8.\n"
     ]
    }
   ],
   "source": [
    "\"\"\"\n",
    "19.\tImprime en pantalla frases como la siguiente: ‘{nombre} se encuentra en el índice {índice}’. Donde nombre debe ser cada uno de los nombres de la siguiente lista que te proporcionaré, y el índice, obtenido mediante enumerate() (usa loops):\n",
    "lista_nombres = [\"Marcos\", \"Laura\", \"Mónica\", \"Javier\", \"Celina\", \"Marta\", \"Darío\", \"Emiliano\", \"Melisa\"]\n",
    "\"\"\"\n",
    "lista_nombres = [\"Marcos\", \"Laura\", \"Mónica\", \"Javier\", \"Celina\", \"Marta\", \"Darío\", \"Emiliano\", \"Melisa\"]\n",
    "\n",
    "for indice, nombre in enumerate(lista_nombres):\n",
    "    print(f\"{nombre} se encuentra en el índice {indice}.\")\n"
   ]
  },
  {
   "cell_type": "code",
   "execution_count": 61,
   "metadata": {},
   "outputs": [
    {
     "name": "stdout",
     "output_type": "stream",
     "text": [
      "[(0, 'P'), (1, 'y'), (2, 't'), (3, 'h'), (4, 'o'), (5, 'n')]\n"
     ]
    }
   ],
   "source": [
    "#20.Crea una lista formada por las tuplas (índice, elemento), formadas a partir de obtener mediante enumerate() los índices de cada carácter del string “Python”. Llama a la lista obtenida con el nombre de la variable lista_indices.\n",
    "\n",
    "py = \"Python\"\n",
    "\n",
    "lista_tuplas = list(enumerate(py))\n",
    "\n",
    "print(lista_tuplas)\n"
   ]
  },
  {
   "cell_type": "code",
   "execution_count": 62,
   "metadata": {},
   "outputs": [
    {
     "name": "stdout",
     "output_type": "stream",
     "text": [
      "Marcos\n",
      "Mónica\n",
      "Marta\n",
      "Melisa\n"
     ]
    }
   ],
   "source": [
    "\"\"\"\n",
    "21.\tImprime en pantalla únicamente los índices de aquellos nombres que empiecen por M, de la lista a continuación:\n",
    "lista_nombres = [\"Marcos\", \"Laura\", \"Mónica\", \"Javier\", \"Celina\", \"Marta\", \"Darío\", \"Emiliano\", \"Melisa\"]\n",
    "Puedes resolverlo de diferentes maneras, pero servirá que tengas presente todos o algunos de los siguientes elementos:\n",
    "a)\tLoops\n",
    "b)\tCondicionales if\n",
    "c)\tEl método enumerate()\n",
    "d)\tMétodos de strings o indexado\n",
    "\"\"\"\n",
    "\n",
    "lista_nombres = [\"Marcos\", \"Laura\", \"Mónica\", \"Javier\", \"Celina\", \"Marta\", \"Darío\", \"Emiliano\", \"Melisa\"]\n",
    "\n",
    "for nombre in lista_nombres:\n",
    "    if nombre[0] == \"M\":\n",
    "        print(nombre)"
   ]
  },
  {
   "cell_type": "code",
   "execution_count": 64,
   "metadata": {},
   "outputs": [
    {
     "name": "stdout",
     "output_type": "stream",
     "text": [
      "La capital de Alemania es Berlín.\n",
      "La capital de Japón es Tokio.\n",
      "La capital de Francia es París.\n",
      "La capital de Finlandia es Helsinki.\n",
      "La capital de Canadá es Ottawa.\n",
      "La capital de Australia es Canberra.\n"
     ]
    }
   ],
   "source": [
    "\"\"\"\n",
    "22.\tMuestra en pantalla frases como la siguiente: ”La capital de Alemania es Berlín”. Utiliza la función zip, loops, y las siguientes listas de países y capitales para resolverlo rápida y eficientemente:\n",
    "capitales = [\"Berlín\", \"Tokio\", \"París\", \"Helsinki\", \"Ottawa\", \"Canberra\"]\n",
    "paises = [\"Alemania\", \"Japón\", \"Francia\", \"Finlandia\", \"Canadá\", \"Australia\"]\n",
    "\"\"\"\n",
    "\n",
    "capitales = [\"Berlín\", \"Tokio\", \"París\", \"Helsinki\", \"Ottawa\", \"Canberra\"]\n",
    "paises = [\"Alemania\", \"Japón\", \"Francia\", \"Finlandia\", \"Canadá\", \"Australia\"]\n",
    "\n",
    "for capital, pais in zip(capitales, paises):\n",
    "    print(f\"La capital de {pais} es {capital}.\")"
   ]
  },
  {
   "cell_type": "code",
   "execution_count": 65,
   "metadata": {},
   "outputs": [
    {
     "name": "stdout",
     "output_type": "stream",
     "text": [
      "[('Todoterreno', 'Seat'), ('Descapotable', 'Nissan'), ('Monovolumen', 'Fiat'), ('Moto', 'BMW')]\n"
     ]
    }
   ],
   "source": [
    "#23.Crea un objeto zip formado a partir de listas, de un conjunto de marcas y productos que tú prefieras, dentro de la variable mi_zip.\n",
    "\n",
    "producto = [\"Todoterreno\", \"Descapotable\", \"Monovolumen\", \"Moto\"]\n",
    "marca = [\"Seat\", \"Nissan\", \"Fiat\", \"BMW\"]\n",
    "\n",
    "mi_zip = list(zip(producto, marca))\n",
    "\n",
    "print(mi_zip)"
   ]
  },
  {
   "cell_type": "code",
   "execution_count": 68,
   "metadata": {},
   "outputs": [
    {
     "name": "stdout",
     "output_type": "stream",
     "text": [
      "[['Uno', 'Un', 'One'], ['Dos', 'Deux', 'Two'], ['Tres', 'Trois', 'Three'], ['Cuatro', 'Quatre', 'Four'], ['Cinco', 'Cinq', 'Five']]\n"
     ]
    }
   ],
   "source": [
    "\"\"\"\n",
    "24.\tCrea el zip con las traducciones de los números del 1 al 5 en español, francés o inglés (en el mismo orden), y convierte el objeto generado en una lista almacenada en la variable números:\n",
    "    a.Uno / Un / One\n",
    "    b.Dos / Deux / Two\n",
    "    c.Tres / Trois / Three\n",
    "    d.Cuatro / Quatre / Four\n",
    "    e.Cinco / Cinq / Five\n",
    "El resultado deberá seguir la estructura:\n",
    "[('Uno', 'Un', 'One'), ('Dos', 'Deux', 'Two'), ...]\n",
    "\"\"\"\n",
    "\n",
    "num1 = \"Uno / Un / One\"\n",
    "num2 = \"Dos / Deux / Two\"\n",
    "num3 = \"Tres / Trois / Three\"\n",
    "num4 = \"Cuatro / Quatre / Four\"\n",
    "num5 = \"Cinco / Cinq / Five\"\n",
    "\n",
    "listanums = [num1, num2, num3, num4, num5]\n",
    "\n",
    "listalimpia = list()\n",
    "\n",
    "for num in listanums:\n",
    "    num = num.split(\" / \")\n",
    "    listalimpia.append(num)\n",
    "\n",
    "print(listalimpia)\n",
    "\n"
   ]
  },
  {
   "cell_type": "code",
   "execution_count": 77,
   "metadata": {},
   "outputs": [
    {
     "name": "stdout",
     "output_type": "stream",
     "text": [
      "141415152\n"
     ]
    }
   ],
   "source": [
    "\"\"\"\n",
    "25.\tObtén el valor máximo entre los valores de la siguiente lista, y almacénalo en una variable llamada valor_maximo\n",
    "lista_numeros = [44532247/2, 23123/5, 12314*123, 525523, 1233412, 66435739, 242352, 141415152, 5515, 52626]\n",
    "\"\"\"\n",
    "lista_numeros = [44532247/2, 23123/5, 12314*123, 525523, 1233412, 66435739, 242352, 141415152, 5515, 52626]\n",
    "\n",
    "valor_maximo = 0\n",
    "for num in lista_numeros:\n",
    "    if num > valor_maximo:\n",
    "        valor_maximo = num\n",
    "\n",
    "print(valor_maximo)"
   ]
  },
  {
   "cell_type": "code",
   "execution_count": 80,
   "metadata": {},
   "outputs": [
    {
     "name": "stdout",
     "output_type": "stream",
     "text": [
      "45100000\n"
     ]
    }
   ],
   "source": [
    "\"\"\"\n",
    "26.\tCalcula la diferencia entre el valor máximo y el mínimo en la siguiente lista de números, y almacénalo en una variable llamada rango:\n",
    "lista_numeros = [45123123, 2412412, 23123, 537357, 885684, 235235, 747457, 246246, 35757, 226642]\n",
    "\"\"\"\n",
    "lista_numeros = [45123123, 2412412, 23123, 537357, 885684, 235235, 747457, 246246, 35757, 226642]\n",
    "\n",
    "valor_maximo = 0\n",
    "for num in lista_numeros:\n",
    "    if num > valor_maximo:\n",
    "        valor_maximo = num\n",
    "\n",
    "valor_minimo = valor_maximo\n",
    "\n",
    "for num in lista_numeros:\n",
    "    if num < valor_minimo:\n",
    "        valor_minimo = num\n",
    "\n",
    "rango = valor_maximo - valor_minimo\n",
    "print(rango)"
   ]
  },
  {
   "cell_type": "code",
   "execution_count": 81,
   "metadata": {},
   "outputs": [
    {
     "name": "stdout",
     "output_type": "stream",
     "text": [
      "5\n",
      "Sonia\n"
     ]
    }
   ],
   "source": [
    "\"\"\"\n",
    "27.\tUtilizando max(), min() y métodos de diccionarios, obtén el mínimo valor a partir del siguiente diccionario:\n",
    "diccionario_edades = {\"Lucía\": 32, \"María\": 18, \"Lorena\": 44, \"Pedro\": 30, \"Juan\": 22, \"Sonia\": 45, \"Gonzalo\": 20, \"Isabel\": 5, \"Rubén\": 12}\n",
    "Almacena dicho valor en una variable llamada edad_minima. También obtén el nombre que se encuentra último en orden alfabético, y almacénalo en una variable llamada ultimo_nombre.\n",
    "\"\"\"\n",
    "\n",
    "diccionario_edades = {\"Lucía\": 32, \"María\": 18, \"Lorena\": 44, \"Pedro\": 30, \"Juan\": 22, \"Sonia\": 45, \"Gonzalo\": 20, \"Isabel\": 5, \"Rubén\": 12}\n",
    "\n",
    "\n",
    "edad_minima = min(diccionario_edades.values())\n",
    "print(edad_minima)\n",
    "ultimo_nombre = max(diccionario_edades.keys())\n",
    "print(ultimo_nombre)"
   ]
  },
  {
   "cell_type": "code",
   "execution_count": 84,
   "metadata": {},
   "outputs": [
    {
     "name": "stdout",
     "output_type": "stream",
     "text": [
      "3\n"
     ]
    }
   ],
   "source": [
    "#28. Implementa la función randint() de la librería Random que te permita obtener un número entero del 1 al 10, y almacena dicho valor en una variable llamada aleatorio.\n",
    "from random import randint\n",
    "aleatorio = randint(1,10)\n",
    "print(aleatorio)\n"
   ]
  },
  {
   "cell_type": "code",
   "execution_count": 85,
   "metadata": {},
   "outputs": [
    {
     "name": "stdout",
     "output_type": "stream",
     "text": [
      "0.9845447599191395\n"
     ]
    }
   ],
   "source": [
    "#29. Implementa la función random() de la librería Random que te permita obtener un número decimal entre 0 y 1, y almacena dicho valor en una variable llamada aleatorio.\n",
    "from random import random\n",
    "aleatorio = random()\n",
    "print(aleatorio)"
   ]
  },
  {
   "cell_type": "code",
   "execution_count": 86,
   "metadata": {},
   "outputs": [
    {
     "name": "stdout",
     "output_type": "stream",
     "text": [
      "Emiliano\n"
     ]
    }
   ],
   "source": [
    "\"\"\"\n",
    "30.\tUtiliza el método choice() de la librería Random para obtener un elemento al azar de la lista de nombres a continuación, y almacena el nombre escogido en una variable llamada sorteo:\n",
    "lista_nombres = [\"Marcos\", \"Laura\", \"Mónica\", \"Javier\", \"Celina\", \"Marta\", \"Darío\", \"Emiliano\", \"Melisa\"]\n",
    "\"\"\"\n",
    "from random import choice\n",
    "lista_nombres = [\"Marcos\", \"Laura\", \"Mónica\", \"Javier\", \"Celina\", \"Marta\", \"Darío\", \"Emiliano\", \"Melisa\"]\n",
    "sorteo = choice(lista_nombres)\n",
    "print(sorteo)"
   ]
  },
  {
   "cell_type": "code",
   "execution_count": 88,
   "metadata": {},
   "outputs": [
    {
     "name": "stdout",
     "output_type": "stream",
     "text": [
      "[1, 4, 9, 16, 25, 36, 90.25]\n"
     ]
    }
   ],
   "source": [
    "\"\"\"\n",
    "31.\tCrea una lista llamada valores_cuadrado formada por los números de la lista, llamada valores, elevados al cuadrado:\n",
    "valores = [1, 2, 3, 4, 5, 6, 9.5]\n",
    "Hay muchas formas de resolver el mismo ejercicio de forma óptima, pero en este te animo a que lo realices con la comprensión de listas, para que empieces a afianzarlos desde ya.\n",
    "\"\"\"\n",
    "\n",
    "valores = [1, 2, 3, 4, 5, 6, 9.5]\n",
    "\n",
    "valores_cuadrado = [valor**2 for valor in valores]\n",
    "print(valores_cuadrado)\n"
   ]
  },
  {
   "cell_type": "code",
   "execution_count": 89,
   "metadata": {},
   "outputs": [
    {
     "name": "stdout",
     "output_type": "stream",
     "text": [
      "[2, 4, 6]\n"
     ]
    }
   ],
   "source": [
    "\"\"\"\n",
    "32.\tUtiliza la comprensión de listas. Crea una lista llamada valores_pares formada por los números de la lista, llamada valores, que sean pares:\n",
    "valores = [1, 2, 3, 4, 5, 6, 9.5]\n",
    "\"\"\"\n",
    "valores_pares = [valor for valor in valores if valor % 2 == 0]\n",
    "print(valores_pares)\n"
   ]
  },
  {
   "cell_type": "code",
   "execution_count": 90,
   "metadata": {},
   "outputs": [
    {
     "name": "stdout",
     "output_type": "stream",
     "text": [
      "[0.0, 100.0, 135.0]\n"
     ]
    }
   ],
   "source": [
    "\"\"\"\n",
    "33.\tExpresa los grados de la lista llamada temperatura_fahrenheit en una nueva lista de valores de temperatura en grados Celsius. La conversión se hace con la fórmula: º C = (º F – 32) * (5/9). Almacena esta nueva lista en una variable llamada grados_celsius. La lista es la siguiente:\n",
    "temperatura_fahrenheit = [32, 212, 275]\n",
    "\"\"\"\n",
    "\n",
    "temperatura_fahrenheit = [32, 212, 275]\n",
    "\n",
    "grados_celsius = [(fahren-32)*(5/9) for fahren in temperatura_fahrenheit]\n",
    "\n",
    "print(grados_celsius)\n"
   ]
  }
 ],
 "metadata": {
  "kernelspec": {
   "display_name": "Python 3",
   "language": "python",
   "name": "python3"
  },
  "language_info": {
   "codemirror_mode": {
    "name": "ipython",
    "version": 3
   },
   "file_extension": ".py",
   "mimetype": "text/x-python",
   "name": "python",
   "nbconvert_exporter": "python",
   "pygments_lexer": "ipython3",
   "version": "3.11.8"
  }
 },
 "nbformat": 4,
 "nbformat_minor": 2
}
