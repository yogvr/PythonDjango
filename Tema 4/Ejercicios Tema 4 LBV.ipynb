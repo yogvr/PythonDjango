{
 "cells": [
  {
   "cell_type": "code",
   "execution_count": 88,
   "metadata": {},
   "outputs": [
    {
     "name": "stdout",
     "output_type": "stream",
     "text": [
      "El número 0 es 0.\n"
     ]
    }
   ],
   "source": [
    "# Ejercicio: Verifica si el número es positivo, negativo o cero.\n",
    "numero = int(input(\"Escribe un número:\\t\"))\n",
    "\n",
    "def verificador():\n",
    "    if numero > 0:\n",
    "        print(f\"El número {numero} es positivo.\")\n",
    "    \n",
    "    elif numero < 0:\n",
    "        print(f\"El número {numero} es positivo.\")\n",
    "    \n",
    "    else:\n",
    "        print(f\"El número {numero} es 0.\")\n",
    "\n",
    "verificador()"
   ]
  },
  {
   "cell_type": "code",
   "execution_count": 86,
   "metadata": {},
   "outputs": [
    {
     "name": "stdout",
     "output_type": "stream",
     "text": [
      "El número 13 se encuentra en el rango entre 10 y 20\n"
     ]
    },
    {
     "data": {
      "text/plain": [
       "'\\nCorrección en clase\\n\\nComo el ejercicio es solo esto, no hace falta definir una función, basta con escribir las condiciones (if, elif, else) y funciona\\nMás resumido todavía (operador ternario): print(\"El número está en el rango\") if 10 <= numero <= 20 else print(\"El número no está en el rango\")\\n'"
      ]
     },
     "execution_count": 86,
     "metadata": {},
     "output_type": "execute_result"
    }
   ],
   "source": [
    "# Ejercicio: Verifica si un número está en el rango [10, 20].\n",
    "def verificador2():\n",
    "    if (numero >= 10 and numero<= 20):\n",
    "        print(f\"El número {numero} se encuentra en el rango entre 10 y 20\")\n",
    "    else:\n",
    "        print(f\"El número {numero} no se encuentra en el rango entre 10 y 20\")\n",
    "\n",
    "verificador2()\n",
    "\n",
    "\"\"\"\n",
    "Corrección en clase\n",
    "\n",
    "Como el ejercicio es solo esto, no hace falta definir una función, basta con escribir las condiciones (if, elif, else) y funciona\n",
    "Más resumido todavía (operador ternario): print(\"El número está en el rango\") if 10 <= numero <= 20 else print(\"El número no está en el rango\")\n",
    "\"\"\""
   ]
  },
  {
   "cell_type": "code",
   "execution_count": 85,
   "metadata": {},
   "outputs": [
    {
     "name": "stdout",
     "output_type": "stream",
     "text": [
      "Cáncer\n"
     ]
    }
   ],
   "source": [
    "# Ejercicio: Utiliza match para clasificar el horoscopo.\n",
    "mes = input(\"Di un mes del año:\\t\").lower()\n",
    "match mes:\n",
    "    case \"enero\":\n",
    "        print (\"Acuario\")\n",
    "    case \"febrero\":\n",
    "        print (\"Piscis\")\n",
    "    case \"marzo\":\n",
    "        print(\"Aries\")\n",
    "    case \"abril\":\n",
    "        print(\"Tauro\")\n",
    "    case \"mayo\":\n",
    "        print(\"Géminis\")\n",
    "    case \"junio\":\n",
    "        print(\"Cáncer\")\n",
    "    case \"julio\":\n",
    "        print(\"Leo\")\n",
    "    case \"agosto\":\n",
    "        print(\"Virgo\")\n",
    "    case \"septiembre\":\n",
    "        print(\"Libra\")\n",
    "    case \"octubre\":\n",
    "        print(\"Escorpio\")\n",
    "    case \"noviembre\":\n",
    "        print(\"Sagitario\")\n",
    "    case \"diciembre\":\n",
    "        print(\"Capricornio\")\n",
    "    case _:\n",
    "        print(\"Valor incorrecto\")\n",
    "\n",
    "    "
   ]
  },
  {
   "cell_type": "code",
   "execution_count": 64,
   "metadata": {},
   "outputs": [
    {
     "name": "stdout",
     "output_type": "stream",
     "text": [
      "Sardina al horno\n",
      "Atún a la plancha\n",
      "Caballa en escabeche\n"
     ]
    }
   ],
   "source": [
    "# Ejercicio: Combina dos listas en un diccionario usando zip.\n",
    "\n",
    "pez = [\"Sardina\", \"Atún\", \"Caballa\", \"Dorada\"]\n",
    "preparacion = [\"al horno\", \"a la plancha\", \"en escabeche\"]\n",
    "\n",
    "plato ={}\n",
    "for pez, preparacion in zip(pez, preparacion):\n",
    "    plato[pez]=preparacion\n",
    "print(plato)\n",
    "\n",
    "\"\"\"\n",
    "Corrección en clase\n",
    "\n",
    "Esto estaría mal porque crea 3 strings, no un diccionario: \n",
    "# for pez, preparacion in zip(pez, preparacion): print(f\"{pez} {preparacion}\")\n",
    "\n",
    "Esto está bien:\n",
    "#plato = {pez:preparacion for pez, preparacion in zip([\"Sardina\", \"Atún\", \"Caballa\", \"Dorada\"], [\"al horno\", \"a la plancha\", \"en escabeche\"])}\n",
    "#print(plato)\n",
    "\n",
    "Otra forma correcta:\n",
    "plato = dict(zip(pez,preparacion))\n",
    "print(type(plato))\n",
    "\"\"\"\n"
   ]
  },
  {
   "cell_type": "code",
   "execution_count": 1,
   "metadata": {},
   "outputs": [
    {
     "name": "stdout",
     "output_type": "stream",
     "text": [
      "Número aleatorio entre 1 y 10: 9\n"
     ]
    }
   ],
   "source": [
    "# Ejercicio: Genera un número aleatorio entre 1 y 10.\n",
    "from random import *\n",
    "print(f\"Número aleatorio entre 1 y 10: {randint(1,10)}\")"
   ]
  },
  {
   "cell_type": "code",
   "execution_count": 37,
   "metadata": {},
   "outputs": [
    {
     "name": "stdout",
     "output_type": "stream",
     "text": [
      "[0, 2, 4, 6]\n"
     ]
    }
   ],
   "source": [
    "# Ejercicio: Imprime los números pares del 0 al 8.\n",
    "pares = [num for num in range (0, 8) if num %2 == 0]\n",
    "print(pares)"
   ]
  },
  {
   "cell_type": "code",
   "execution_count": 81,
   "metadata": {},
   "outputs": [
    {
     "name": "stdout",
     "output_type": "stream",
     "text": [
      "El año 2025 no es bisiesto\n"
     ]
    },
    {
     "data": {
      "text/plain": [
       "'\\nyear = int(input(\"Ingresa un año: \"))\\nif (year % 4 == 0 and year % 100 !=0) or (year% 400 == 0):\\n    print(f\"{year} es bisiesto.\")\\nelse:\\n    print(f\"{year} no es bisiesto.\")\\n\\nPrueba técnica que se suele hacer para contratar\\n'"
      ]
     },
     "execution_count": 81,
     "metadata": {},
     "output_type": "execute_result"
    }
   ],
   "source": [
    "# Ejercicio: Verifica si un año es bisiesto.\n",
    "year = int(input(\"Introduce un año para comprobar si es bisiesto:\\t\"))\n",
    "\n",
    "def bisiesto():\n",
    "    if (year%4 == 0 and year%100 != 0):\n",
    "        print(f\"El año {year} es bisiesto\")\n",
    "    elif (year%100 != 0 and year%400 == 0):\n",
    "        print(f\"El año {year} es bisiesto\")\n",
    "    else:\n",
    "        print(f\"El año {year} no es bisiesto\")\n",
    "        \n",
    "bisiesto()\n",
    "\n",
    "\"\"\"\n",
    "year = int(input(\"Ingresa un año: \"))\n",
    "if (year % 4 == 0 and year % 100 !=0) or (year% 400 == 0):\n",
    "    print(f\"{year} es bisiesto.\")\n",
    "else:\n",
    "    print(f\"{year} no es bisiesto.\")\n",
    "\n",
    "Prueba técnica que se suele hacer para contratar\n",
    "\"\"\""
   ]
  },
  {
   "cell_type": "code",
   "execution_count": 82,
   "metadata": {},
   "outputs": [
    {
     "name": "stdout",
     "output_type": "stream",
     "text": [
      "[1, 4, 9, 16, 25]\n"
     ]
    }
   ],
   "source": [
    "# Ejercicio: Crea una lista de cuadrados de números del 1 al 5.\n",
    "cuadrados = [num**2 for num in range(1, 6)]\n",
    "print(cuadrados)\n",
    "\n",
    "#El último no está incluido, por eso ponemos (1, 6) y no (1, 5)"
   ]
  },
  {
   "cell_type": "code",
   "execution_count": 83,
   "metadata": {},
   "outputs": [
    {
     "name": "stdout",
     "output_type": "stream",
     "text": [
      "1\n",
      "2\n",
      "3\n",
      "4\n",
      "5\n"
     ]
    }
   ],
   "source": [
    "# Ejercicio (for): Imprime los primeros 5 números naturales.\n",
    "natu = 0\n",
    "for natu in range(0,5):\n",
    "    natu += 1\n",
    "    print(natu)\n"
   ]
  },
  {
   "cell_type": "code",
   "execution_count": 84,
   "metadata": {},
   "outputs": [
    {
     "name": "stdout",
     "output_type": "stream",
     "text": [
      "1\n",
      "2\n",
      "3\n",
      "4\n",
      "5\n"
     ]
    }
   ],
   "source": [
    "# Ejercicio (while): Imprime los primeros 5 números naturales usando while.\n",
    "natu = 0\n",
    "while natu < 5:\n",
    "    natu += 1\n",
    "    print(natu)"
   ]
  }
 ],
 "metadata": {
  "kernelspec": {
   "display_name": "Python 3",
   "language": "python",
   "name": "python3"
  },
  "language_info": {
   "codemirror_mode": {
    "name": "ipython",
    "version": 3
   },
   "file_extension": ".py",
   "mimetype": "text/x-python",
   "name": "python",
   "nbconvert_exporter": "python",
   "pygments_lexer": "ipython3",
   "version": "3.11.8"
  }
 },
 "nbformat": 4,
 "nbformat_minor": 2
}
