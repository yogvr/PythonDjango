{
 "cells": [
  {
   "cell_type": "markdown",
   "metadata": {},
   "source": [
    "# Proyecto del tema\n",
    "\n",
    "> El programa le va a preguntar al usuario su nombre, y luego le va a decir algo como “Buenas, Luís, he pensado un número entre el 1 y el 100, y tienes solo 6 intentos para adivinar cuál crees que es el número”.\n",
    "\n",
    "> Entonces, en cada intento, el jugador dirá un número y el programa puede responder cuatro cosas distintas:\n",
    "\n",
    "* Si el número que dijo el usuario es menor a 1 o superior a 100, le va a decir que ha elegido un número que no está permitido.\n",
    "* Si el número que ha elegido el usuario es menor al que ha pensado el programa, le va a decir que su respuesta es incorrecta, y que ha elegido un número menor al número secreto.\n",
    "* Si el usuario eligió un número mayor al número secreto, también se lo hará saber de la misma manera.\n",
    "* Y si el usuario acertó el número secreto, se le va a informar que ha ganado y cuántos intentos le ha costado hacerlo.\n",
    "\n",
    "> Si el usuario no ha acertado en este primer intento, se le va a volver a pedir que elija otro número. Así, hasta que gane acertando o hasta que pierda cuando se quede sin intentos.\n",
    "\n"
   ]
  },
  {
   "cell_type": "code",
   "execution_count": 3,
   "metadata": {},
   "outputs": [
    {
     "name": "stdout",
     "output_type": "stream",
     "text": [
      "> Vale, ere. Voy a pensar un número entero del 1 al 100 y tendrás que averiguar cuál es.\n",
      "> Pero ojo, solo tienes 6 intentos.\n",
      "> Voy a pensar...\n",
      "\n",
      "> Casi. Mi número es mayor que 44.\n",
      "\n",
      "> Casi. Mi número es mayor que 45.\n",
      "\n",
      "> Casi. Mi número es mayor que 55.\n",
      "\n",
      "> Casi. Mi número es mayor que 77.\n",
      "\n",
      "> Casi. Mi número es mayor que 88.\n",
      "\n",
      "> Casi. Mi número es mayor que 80.\n",
      "\n",
      "> Te has quedado sin intentos. ¡Mejor suerte la próxima vez!\n"
     ]
    }
   ],
   "source": [
    "nombre = input(\"> ¡Hola! ¿Cómo te llamas?\\n\\t\")\n",
    "print(f\"> Vale, {nombre}. Voy a pensar un número entero del 1 al 100 y tendrás que averiguar cuál es.\\n> Pero ojo, solo tienes 6 intentos.\\n> Voy a pensar...\\n\")\n",
    "\n",
    "from random import *\n",
    "\n",
    "\n",
    "num = randint(1,100)\n",
    "intento = 1\n",
    "guess = int(input(\"> Ya está. ¿Qué número crees que he pensado?\\n\\t\"))\n",
    "\n",
    "def adivinar():\n",
    "    if guess < 1 or guess > 100:\n",
    "        print(f\"> ¡Ese número está fuera de rango!\\n> Piensa otro.\\n\")\n",
    "    elif guess < num:\n",
    "        print(f\"> Casi. Mi número es mayor que {guess}.\\n\")\n",
    "    elif guess > num:\n",
    "        print(f\"> Casi. Mi número es menor que {guess}.\\n\")\n",
    "    if guess == num:\n",
    "        print(f\"> ¡Ese es mi número! ¿Cómo lo sabías?\\n> Te ha llevado {intento} intentos.\")\n",
    "\n",
    "adivinar()\n",
    "\n",
    "while num != guess and intento < 6:\n",
    "    guess = int(input(\"> Prueba otra vez:\\n\\t\"))\n",
    "    intento += 1\n",
    "    adivinar()\n",
    "\n",
    "if intento == 6 and num != guess:\n",
    "    print(\"> Te has quedado sin intentos. ¡Mejor suerte la próxima vez!\")\n",
    "    \n"
   ]
  }
 ],
 "metadata": {
  "kernelspec": {
   "display_name": "Python 3",
   "language": "python",
   "name": "python3"
  },
  "language_info": {
   "codemirror_mode": {
    "name": "ipython",
    "version": 3
   },
   "file_extension": ".py",
   "mimetype": "text/x-python",
   "name": "python",
   "nbconvert_exporter": "python",
   "pygments_lexer": "ipython3",
   "version": "3.11.8"
  }
 },
 "nbformat": 4,
 "nbformat_minor": 2
}
